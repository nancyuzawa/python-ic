{
  "nbformat": 4,
  "nbformat_minor": 0,
  "metadata": {
    "colab": {
      "provenance": [],
      "mount_file_id": "1sYTrz3RunIW4V0atMGu1-Q23_sRz6W_I",
      "authorship_tag": "ABX9TyOiTCbT3qEZSZ5m2B+m2QcX",
      "include_colab_link": true
    },
    "kernelspec": {
      "name": "python3",
      "display_name": "Python 3"
    },
    "language_info": {
      "name": "python"
    }
  },
  "cells": [
    {
      "cell_type": "markdown",
      "metadata": {
        "id": "view-in-github",
        "colab_type": "text"
      },
      "source": [
        "<a href=\"https://colab.research.google.com/github/nancyuzawa/python-ic/blob/sec/filtro_url.ipynb\" target=\"_parent\"><img src=\"https://colab.research.google.com/assets/colab-badge.svg\" alt=\"Open In Colab\"/></a>"
      ]
    },
    {
      "cell_type": "code",
      "execution_count": null,
      "metadata": {
        "id": "DuXkN4FNDWdI"
      },
      "outputs": [],
      "source": [
        "f_urls = open('campinas-sp-gov-br-urls.txt', 'r')\n",
        "arquivopdf = open('urls_pdf.txt', 'a')\n",
        "arquivocsv = open('urls_csv.txt', 'a')\n",
        "arquivodoc = open('urls_doc.txt', 'a')\n",
        "arquivortf = open('urls_rtf.txt', 'a')\n",
        "arquivoxls = open('urls_xls.txt', 'a')\n",
        "arquivodocx = open('urls_docx.txt', 'a')\n",
        "arquivoxlsx = open('urls_xlsx.txt', 'a')\n",
        "arquivoother = open('urls_other.txt', 'a')\n",
        "#print(f_urls.read())\n",
        "filepath = 'campinas-sp-gov-br-urls.txt'\n",
        "\n",
        "with open(filepath) as fp:\n",
        "   line = fp.readline()\n",
        "   cnt = 0\n",
        "   while line:\n",
        "       line = fp.readline()\n",
        "       cnt += 1\n",
        "       a=len(line)\n",
        "       print(\"Line {}: {}\".format(cnt, line.strip()))#Imprime o numero da linha e o link\n",
        "       if(a!=0):\n",
        "           e=line[a-4]\n",
        "           b=line[a-3]\n",
        "           c=line[a-2]\n",
        "           d=line[a-1]\n",
        "           print(\"{}\\t{}\\t{}\\t{}\".format(e,b, c,d))# imprime as últimas letras do link\n",
        "           if(b==\"p\" and c==\"d\" and d==\"f\"):\n",
        "               arquivopdf.writelines(line)\n",
        "           elif(b==\"c\" and c==\"s\" and d==\"v\"):\n",
        "               arquivocsv.writelines(line)\n",
        "           elif(b==\"d\" and c==\"o\" and d==\"c\"):\n",
        "               arquivodoc.writelines(line)\n",
        "           elif(b==\"r\" and c==\"t\" and d==\"f\"):\n",
        "               arquivortf.writelines(line)\n",
        "           elif(b==\"x\" and c==\"l\" and d==\"s\"):\n",
        "               arquivoxls.writelines(line)\n",
        "           elif(e==\"d\" and b==\"o\" and c==\"c\" and d==\"x\"):\n",
        "               arquivodocx.writelines(line)\n",
        "           elif(e==\"x\" and b==\"l\" and c==\"s\" and d==\"x\"):\n",
        "               arquivoxlsx.writelines(line)\n",
        "           else:\n",
        "               arquivoother.writelines(line)"
      ]
    }
  ]
}
